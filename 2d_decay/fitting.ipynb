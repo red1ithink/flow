{
 "cells": [
  {
   "cell_type": "code",
   "execution_count": 3,
   "id": "c3bfba60-7c63-446e-adb4-b211b87171e5",
   "metadata": {
    "scrolled": true
   },
   "outputs": [],
   "source": [
    "from Function import *\n",
    "# from DefineFiles import *\n",
    "import visualize as vr\n",
    "from Boundary import boundary\n",
    "from Fitting import fitting"
   ]
  },
  {
   "cell_type": "code",
   "execution_count": 7,
   "id": "d68a3883-7bc7-44d6-8de1-697dbc110211",
   "metadata": {},
   "outputs": [],
   "source": [
    "files_list = [files, files2, files3, files4]\n",
    "nu_values = [0.00001, 0.0001, 0.000005, 0.00002]\n",
    "\n",
    "times_dict, max_ks_dict, k_diss_vals_dict = boundary(files_list, nu_values)\n",
    "\n",
    "k_diss_vals1 = k_diss_vals_dict[\"k_diss_vals1\"]\n",
    "k_diss_vals2 = k_diss_vals_dict[\"k_diss_vals2\"]\n",
    "k_diss_vals3 = k_diss_vals_dict[\"k_diss_vals3\"]\n",
    "k_diss_vals4 = k_diss_vals_dict[\"k_diss_vals4\"]"
   ]
  },
  {
   "cell_type": "code",
   "execution_count": null,
   "id": "35a55367-93c9-4a2f-b746-2673254b7692",
   "metadata": {},
   "outputs": [],
   "source": [
    "fitting(files, k_i1, k_diss_vals1, \"[x1]results.csv\")\n",
    "fitting(files2, k_i2, k_diss_vals2, \"[x10]results.csv\")\n",
    "fitting(files3, k_i3, k_diss_vals3, \"[x0.5]results.csv\")\n",
    "fitting(files4, k_i4, k_diss_vals4, \"[x2]results.csv\")"
   ]
  },
  {
   "cell_type": "code",
   "execution_count": null,
   "id": "c247f5fc-11f3-4df5-9a9b-0e139ec88c46",
   "metadata": {},
   "outputs": [],
   "source": [
    "csv_files = [\"[x1]results.csv\", \"[x0.5]results.csv\", \"[x2]results.csv\", \"[x10]results.csv\"]\n",
    "labels = [\"x1\", \"x0.5\", \"x2\", \"x10\"]\n",
    "\n",
    "fig, axes = plt.subplots(nrows=2, ncols=1, figsize=(8, 8), sharex=True)\n",
    "\n",
    "for csv_file, lbl in zip(csv_files, labels):\n",
    "    df = pd.read_csv(csv_file)\n",
    "    \n",
    "    axes[0].plot(df[\"Label\"], df[\"Slope_ENG\"], marker='o', label=f\"{lbl}\")\n",
    "    axes[1].plot(df[\"Label\"], df[\"Slope_EST\"], marker='x', label=f\"{lbl}\")\n",
    "\n",
    "axes[0].axhline(y=-1.67, color='black', linestyle='--', label=\"y=-1.67\")\n",
    "axes[1].axhline(y=-4,    color='black', linestyle='--', label=\"y=-4\")\n",
    "\n",
    "axes[0].set_ylabel(\"Slope_ENG\")\n",
    "axes[1].set_ylabel(\"Slope_EST\")\n",
    "axes[1].set_xlabel(\"Time\")\n",
    "\n",
    "axes[0].set_title(\"Slope of EN range (-1.67)\")\n",
    "axes[1].set_title(\"Slope of ES range (-4)\")\n",
    "\n",
    "axes[0].legend()\n",
    "axes[1].legend()\n",
    "\n",
    "axes[0].grid(True, alpha=0.3)\n",
    "axes[1].grid(True, alpha=0.3)\n",
    "\n",
    "plt.tight_layout()\n",
    "plt.show()"
   ]
  }
 ],
 "metadata": {
  "kernelspec": {
   "display_name": "Python 3 (ipykernel)",
   "language": "python",
   "name": "python3"
  },
  "language_info": {
   "codemirror_mode": {
    "name": "ipython",
    "version": 3
   },
   "file_extension": ".py",
   "mimetype": "text/x-python",
   "name": "python",
   "nbconvert_exporter": "python",
   "pygments_lexer": "ipython3",
   "version": "3.12.8"
  }
 },
 "nbformat": 4,
 "nbformat_minor": 5
}
